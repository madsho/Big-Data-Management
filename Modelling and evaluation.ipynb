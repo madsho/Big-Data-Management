{
 "cells": [
  {
   "cell_type": "markdown",
   "metadata": {},
   "source": [
    "# Modelling and evaluation"
   ]
  },
  {
   "cell_type": "markdown",
   "metadata": {},
   "source": [
    "Explantion of what we are doing"
   ]
  },
  {
   "cell_type": "markdown",
   "metadata": {},
   "source": [
    "### Importing modules"
   ]
  },
  {
   "cell_type": "code",
   "execution_count": 11,
   "metadata": {},
   "outputs": [],
   "source": [
    "import pandas as pd\n",
    "import numpy as np\n",
    "\n",
    "from sklearn.model_selection import train_test_split\n",
    "\n",
    "from sklearn.dummy import DummyClassifier\n",
    "\n",
    "from imblearn.over_sampling import SMOTE \n",
    "\n",
    "\n",
    "# Models for classification\n",
    "from sklearn.tree import DecisionTreeClassifier\n",
    "from sklearn.linear_model import LogisticRegression\n",
    "from sklearn.neighbors import KNeighborsClassifier\n"
   ]
  },
  {
   "cell_type": "markdown",
   "metadata": {},
   "source": [
    "### Importing data"
   ]
  },
  {
   "cell_type": "code",
   "execution_count": 12,
   "metadata": {},
   "outputs": [
    {
     "name": "stdout",
     "output_type": "stream",
     "text": [
      "<class 'pandas.core.frame.DataFrame'>\n",
      "RangeIndex: 534147 entries, 0 to 534146\n",
      "Data columns (total 17 columns):\n",
      " #   Column             Non-Null Count   Dtype  \n",
      "---  ------             --------------   -----  \n",
      " 0   Unnamed: 0         534147 non-null  int64  \n",
      " 1   State              534147 non-null  int64  \n",
      " 2   Zip                534147 non-null  int64  \n",
      " 3   NAICS              534147 non-null  int64  \n",
      " 4   ApprovalFY         534147 non-null  int64  \n",
      " 5   Term               534147 non-null  int64  \n",
      " 6   NoEmp              534147 non-null  int64  \n",
      " 7   NewExist           534147 non-null  int64  \n",
      " 8   CreateJob          534147 non-null  int64  \n",
      " 9   RetainedJob        534147 non-null  int64  \n",
      " 10  FranchiseCode      534147 non-null  int64  \n",
      " 11  UrbanRural         534147 non-null  int64  \n",
      " 12  LowDoc             534147 non-null  int64  \n",
      " 13  DisbursementGross  534147 non-null  float64\n",
      " 14  MIS_Status         534147 non-null  int64  \n",
      " 15  GrAppv             534147 non-null  float64\n",
      " 16  Ratio              534147 non-null  float64\n",
      "dtypes: float64(3), int64(14)\n",
      "memory usage: 69.3 MB\n"
     ]
    },
    {
     "data": {
      "text/html": [
       "<div>\n",
       "<style scoped>\n",
       "    .dataframe tbody tr th:only-of-type {\n",
       "        vertical-align: middle;\n",
       "    }\n",
       "\n",
       "    .dataframe tbody tr th {\n",
       "        vertical-align: top;\n",
       "    }\n",
       "\n",
       "    .dataframe thead th {\n",
       "        text-align: right;\n",
       "    }\n",
       "</style>\n",
       "<table border=\"1\" class=\"dataframe\">\n",
       "  <thead>\n",
       "    <tr style=\"text-align: right;\">\n",
       "      <th></th>\n",
       "      <th>Unnamed: 0</th>\n",
       "      <th>State</th>\n",
       "      <th>Zip</th>\n",
       "      <th>NAICS</th>\n",
       "      <th>ApprovalFY</th>\n",
       "      <th>Term</th>\n",
       "      <th>NoEmp</th>\n",
       "      <th>NewExist</th>\n",
       "      <th>CreateJob</th>\n",
       "      <th>RetainedJob</th>\n",
       "      <th>FranchiseCode</th>\n",
       "      <th>UrbanRural</th>\n",
       "      <th>LowDoc</th>\n",
       "      <th>DisbursementGross</th>\n",
       "      <th>MIS_Status</th>\n",
       "      <th>GrAppv</th>\n",
       "      <th>Ratio</th>\n",
       "    </tr>\n",
       "  </thead>\n",
       "  <tbody>\n",
       "    <tr>\n",
       "      <th>0</th>\n",
       "      <td>12</td>\n",
       "      <td>27</td>\n",
       "      <td>27502</td>\n",
       "      <td>44</td>\n",
       "      <td>2006</td>\n",
       "      <td>162</td>\n",
       "      <td>2</td>\n",
       "      <td>2</td>\n",
       "      <td>0</td>\n",
       "      <td>0</td>\n",
       "      <td>1</td>\n",
       "      <td>1</td>\n",
       "      <td>0</td>\n",
       "      <td>253400.0</td>\n",
       "      <td>1</td>\n",
       "      <td>253400.0</td>\n",
       "      <td>0.75</td>\n",
       "    </tr>\n",
       "    <tr>\n",
       "      <th>1</th>\n",
       "      <td>24</td>\n",
       "      <td>2</td>\n",
       "      <td>72223</td>\n",
       "      <td>72</td>\n",
       "      <td>2006</td>\n",
       "      <td>126</td>\n",
       "      <td>7</td>\n",
       "      <td>1</td>\n",
       "      <td>0</td>\n",
       "      <td>0</td>\n",
       "      <td>0</td>\n",
       "      <td>1</td>\n",
       "      <td>0</td>\n",
       "      <td>137300.0</td>\n",
       "      <td>1</td>\n",
       "      <td>137300.0</td>\n",
       "      <td>0.85</td>\n",
       "    </tr>\n",
       "    <tr>\n",
       "      <th>2</th>\n",
       "      <td>28</td>\n",
       "      <td>4</td>\n",
       "      <td>93010</td>\n",
       "      <td>61</td>\n",
       "      <td>2006</td>\n",
       "      <td>83</td>\n",
       "      <td>18</td>\n",
       "      <td>2</td>\n",
       "      <td>5</td>\n",
       "      <td>23</td>\n",
       "      <td>0</td>\n",
       "      <td>1</td>\n",
       "      <td>0</td>\n",
       "      <td>438541.0</td>\n",
       "      <td>1</td>\n",
       "      <td>100000.0</td>\n",
       "      <td>0.50</td>\n",
       "    </tr>\n",
       "    <tr>\n",
       "      <th>3</th>\n",
       "      <td>30</td>\n",
       "      <td>9</td>\n",
       "      <td>33186</td>\n",
       "      <td>23</td>\n",
       "      <td>2006</td>\n",
       "      <td>84</td>\n",
       "      <td>4</td>\n",
       "      <td>1</td>\n",
       "      <td>0</td>\n",
       "      <td>4</td>\n",
       "      <td>0</td>\n",
       "      <td>1</td>\n",
       "      <td>0</td>\n",
       "      <td>51440.0</td>\n",
       "      <td>1</td>\n",
       "      <td>35000.0</td>\n",
       "      <td>0.50</td>\n",
       "    </tr>\n",
       "    <tr>\n",
       "      <th>4</th>\n",
       "      <td>32</td>\n",
       "      <td>18</td>\n",
       "      <td>70130</td>\n",
       "      <td>53</td>\n",
       "      <td>2006</td>\n",
       "      <td>60</td>\n",
       "      <td>3</td>\n",
       "      <td>1</td>\n",
       "      <td>0</td>\n",
       "      <td>0</td>\n",
       "      <td>0</td>\n",
       "      <td>1</td>\n",
       "      <td>0</td>\n",
       "      <td>50000.0</td>\n",
       "      <td>1</td>\n",
       "      <td>50000.0</td>\n",
       "      <td>0.85</td>\n",
       "    </tr>\n",
       "  </tbody>\n",
       "</table>\n",
       "</div>"
      ],
      "text/plain": [
       "   Unnamed: 0  State    Zip  NAICS  ApprovalFY  Term  NoEmp  NewExist  \\\n",
       "0          12     27  27502     44        2006   162      2         2   \n",
       "1          24      2  72223     72        2006   126      7         1   \n",
       "2          28      4  93010     61        2006    83     18         2   \n",
       "3          30      9  33186     23        2006    84      4         1   \n",
       "4          32     18  70130     53        2006    60      3         1   \n",
       "\n",
       "   CreateJob  RetainedJob  FranchiseCode  UrbanRural  LowDoc  \\\n",
       "0          0            0              1           1       0   \n",
       "1          0            0              0           1       0   \n",
       "2          5           23              0           1       0   \n",
       "3          0            4              0           1       0   \n",
       "4          0            0              0           1       0   \n",
       "\n",
       "   DisbursementGross  MIS_Status    GrAppv  Ratio  \n",
       "0           253400.0           1  253400.0   0.75  \n",
       "1           137300.0           1  137300.0   0.85  \n",
       "2           438541.0           1  100000.0   0.50  \n",
       "3            51440.0           1   35000.0   0.50  \n",
       "4            50000.0           1   50000.0   0.85  "
      ]
     },
     "execution_count": 12,
     "metadata": {},
     "output_type": "execute_result"
    }
   ],
   "source": [
    "df = pd.read_csv('PreProcessedData.csv', sep=\",\")\n",
    "\n",
    "df.info()\n",
    "\n",
    "df.head()"
   ]
  },
  {
   "cell_type": "markdown",
   "metadata": {},
   "source": [
    "### Establish baseline"
   ]
  },
  {
   "cell_type": "code",
   "execution_count": 13,
   "metadata": {},
   "outputs": [
    {
     "data": {
      "text/plain": [
       "Index(['State', 'Zip', 'NAICS', 'Term', 'NoEmp', 'NewExist', 'CreateJob',\n",
       "       'RetainedJob', 'FranchiseCode', 'UrbanRural', 'LowDoc',\n",
       "       'DisbursementGross', 'GrAppv', 'Ratio'],\n",
       "      dtype='object')"
      ]
     },
     "execution_count": 13,
     "metadata": {},
     "output_type": "execute_result"
    }
   ],
   "source": [
    "X = df[['State','Zip','NAICS','Term','NoEmp','NewExist','CreateJob','RetainedJob','FranchiseCode','UrbanRural','LowDoc','DisbursementGross','GrAppv','Ratio']]\n",
    "\n",
    "y = df['MIS_Status']\n",
    "\n",
    "X.columns"
   ]
  },
  {
   "cell_type": "code",
   "execution_count": 14,
   "metadata": {},
   "outputs": [
    {
     "name": "stdout",
     "output_type": "stream",
     "text": [
      "(400610, 14) (400610,) (133537, 14) (133537,)\n"
     ]
    }
   ],
   "source": [
    "X_train, X_test, y_train, y_test = train_test_split(X, y, random_state=42)\n",
    "\n",
    "print(X_train.shape, y_train.shape,X_test.shape, y_test.shape)"
   ]
  },
  {
   "cell_type": "code",
   "execution_count": 15,
   "metadata": {},
   "outputs": [
    {
     "data": {
      "text/plain": [
       "75.59005292550552"
      ]
     },
     "execution_count": 15,
     "metadata": {},
     "output_type": "execute_result"
    }
   ],
   "source": [
    "sum(y)/len(y)*100"
   ]
  },
  {
   "cell_type": "code",
   "execution_count": 16,
   "metadata": {},
   "outputs": [
    {
     "name": "stdout",
     "output_type": "stream",
     "text": [
      "Score: 0.756\n",
      "Score: 0.756\n"
     ]
    }
   ],
   "source": [
    "#EVT. CUT DENNE DEL UD HVIS DET IKKE GIVER MENING\n",
    "dummy = DummyClassifier()\n",
    "dummy.fit(X_train, y_train)\n",
    "dummy_y_pred = dummy.predict(X_test)\n",
    "\n",
    "print(\"Score: {:.3f}\".format(dummy.score(X_train, y_train)))\n",
    "print(\"Score: {:.3f}\".format(dummy.score(X_test, y_test)))"
   ]
  },
  {
   "cell_type": "code",
   "execution_count": 17,
   "metadata": {},
   "outputs": [],
   "source": [
    "#EVT. CONFUSION MATRIX PÅ BAGGRUND AF DUMMY\n",
    "#cm = confusion_matrix(y_test, dum_y_pred)\n",
    "#print(cm)"
   ]
  },
  {
   "cell_type": "code",
   "execution_count": 18,
   "metadata": {},
   "outputs": [
    {
     "data": {
      "text/plain": [
       "0.5"
      ]
     },
     "execution_count": 18,
     "metadata": {},
     "output_type": "execute_result"
    }
   ],
   "source": [
    "sm = SMOTE(random_state=42)\n",
    "X_SMOTE, y_SMOTE = sm.fit_resample(X, y)\n",
    "\n",
    "sum(y_SMOTE)/len(y_SMOTE)"
   ]
  },
  {
   "cell_type": "code",
   "execution_count": 19,
   "metadata": {},
   "outputs": [
    {
     "name": "stdout",
     "output_type": "stream",
     "text": [
      "Xtrain (605643, 14) y_train (605643,) X_test (201881, 14) y_test (201881,)\n"
     ]
    }
   ],
   "source": [
    "#New test and train set after SMOTE\n",
    "X_train, X_test, y_train, y_test = train_test_split(X_SMOTE, y_SMOTE, random_state=42)\n",
    "\n",
    "print(\"Xtrain\", X_train.shape, \"y_train\", \n",
    "      y_train.shape, \"X_test\", X_test.shape, \"y_test\", y_test.shape) "
   ]
  },
  {
   "cell_type": "code",
   "execution_count": 20,
   "metadata": {},
   "outputs": [
    {
     "name": "stdout",
     "output_type": "stream",
     "text": [
      "Score: 0.500\n",
      "Score: 0.499\n"
     ]
    }
   ],
   "source": [
    "#Try dummy test again after SMOTE\n",
    "dummy = DummyClassifier()\n",
    "dummy.fit(X_train, y_train)\n",
    "dummy_y_pred = dummy.predict(X_test)\n",
    "\n",
    "print(\"Score: {:.3f}\".format(dummy.score(X_train, y_train)))\n",
    "print(\"Score: {:.3f}\".format(dummy.score(X_test, y_test)))"
   ]
  },
  {
   "cell_type": "markdown",
   "metadata": {},
   "source": [
    "# CLASSIFIERS (MODELS)"
   ]
  },
  {
   "cell_type": "markdown",
   "metadata": {},
   "source": [
    "Explanation of process and procedure"
   ]
  },
  {
   "cell_type": "markdown",
   "metadata": {},
   "source": [
    "### Logistic Regression"
   ]
  },
  {
   "cell_type": "code",
   "execution_count": 21,
   "metadata": {},
   "outputs": [
    {
     "name": "stdout",
     "output_type": "stream",
     "text": [
      "Score: 0.748\n",
      "Score: 0.746\n"
     ]
    }
   ],
   "source": [
    "LogReg = LogisticRegression()\n",
    "LogReg.fit(X_train, y_train)\n",
    "\n",
    "#For evaluating later\n",
    "LogReg_y_prediction = LogReg.predict(X_test)\n",
    "\n",
    "#Scores\n",
    "print(\"Score: {:.3f}\".format(LogReg.score(X_train, y_train)))\n",
    "print(\"Score: {:.3f}\".format(LogReg.score(X_test, y_test)))"
   ]
  },
  {
   "cell_type": "code",
   "execution_count": 24,
   "metadata": {},
   "outputs": [
    {
     "name": "stdout",
     "output_type": "stream",
     "text": [
      "[[-7.05573732e-03 -1.14832259e-05 -2.10015794e-02  2.91845995e-02\n",
      "   2.35092804e-03 -2.55596086e-04 -7.27573572e-05  5.64189281e-04\n",
      "   4.95476302e-05 -2.17059012e-04  1.06183085e-04  8.82277275e-07\n",
      "  -2.72085933e-06 -2.23824461e-04]]\n"
     ]
    },
    {
     "data": {
      "text/plain": [
       "array([[0.9929691 , 0.99998852, 0.97921742, 1.02961464, 1.00235369,\n",
       "        0.99974444, 0.99992725, 1.00056435, 1.00004955, 0.99978296,\n",
       "        1.00010619, 1.00000088, 0.99999728, 0.9997762 ]])"
      ]
     },
     "execution_count": 24,
     "metadata": {},
     "output_type": "execute_result"
    }
   ],
   "source": [
    "#print coefficient\n",
    "coefficient = LogReg.coef_\n",
    "print(coefficient)\n",
    "\n",
    "odds = np.exp(coefficient)\n",
    "odds"
   ]
  },
  {
   "cell_type": "markdown",
   "metadata": {},
   "source": [
    "DO THIS --> Apply either Grid search, Cross validation, KNN and/or random forrest classifier"
   ]
  }
 ],
 "metadata": {
  "kernelspec": {
   "display_name": "base",
   "language": "python",
   "name": "python3"
  },
  "language_info": {
   "codemirror_mode": {
    "name": "ipython",
    "version": 3
   },
   "file_extension": ".py",
   "mimetype": "text/x-python",
   "name": "python",
   "nbconvert_exporter": "python",
   "pygments_lexer": "ipython3",
   "version": "3.11.6"
  }
 },
 "nbformat": 4,
 "nbformat_minor": 2
}
